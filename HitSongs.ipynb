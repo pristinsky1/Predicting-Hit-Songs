{
 "cells": [
  {
   "cell_type": "code",
   "execution_count": 74,
   "metadata": {},
   "outputs": [],
   "source": [
    "import numpy as np\n",
    "import pandas as pd\n",
    "import requests\n",
    "import urllib.request\n",
    "import time\n",
    "from sklearn.model_selection import train_test_split\n",
    "from sklearn.metrics import mean_squared_error\n",
    "from bs4 import BeautifulSoup\n",
    "from urllib.request import urlopen\n",
    "from numpy.random import choice\n",
    "import math"
   ]
  },
  {
   "cell_type": "markdown",
   "metadata": {},
   "source": [
    "# Cleaning"
   ]
  },
  {
   "cell_type": "markdown",
   "metadata": {},
   "source": [
    "This line of code below was used for selecting the last 25 years as a subset of data that we will be working with. As you can see, we did this so that we work with roughly 50,000 rows of data. Only uncomment the block of code below if you need to create the subset dataset manually, otherwise it should be located in the repo already."
   ]
  },
  {
   "cell_type": "code",
   "execution_count": 15,
   "metadata": {},
   "outputs": [],
   "source": [
    "# df = pd.read_csv('data.csv', index_col=0)\n",
    "# ser = df['year'].value_counts().sort_index(ascending=False)\n",
    "# check = 0\n",
    "# years = []\n",
    "# for items in ser.iteritems(): \n",
    "#     if check <= 50000:\n",
    "#         years.append(items[0])\n",
    "\n",
    "#         check += items[1]\n",
    "\n",
    "# new_df = df[df.year >= years[-1]]\n",
    "# new_df.to_csv('subset_data.csv')"
   ]
  },
  {
   "cell_type": "code",
   "execution_count": 16,
   "metadata": {},
   "outputs": [],
   "source": [
    "url = 'https://en.wikipedia.org/wiki/Billboard_Year-End_Hot_100_singles_of_1995'\n",
    "html = urlopen(url) \n",
    "soup = BeautifulSoup(html, 'html.parser')"
   ]
  },
  {
   "cell_type": "code",
   "execution_count": 17,
   "metadata": {},
   "outputs": [],
   "source": [
    "tables = soup.find_all('table')\n",
    "rows = [row for row in tables[0].find_all('tr')]"
   ]
  },
  {
   "cell_type": "code",
   "execution_count": 18,
   "metadata": {},
   "outputs": [],
   "source": [
    "def get_td(row):\n",
    "    return [td for td in row.find_all('td')]\n",
    "songs_list = [get_td(row)for row in rows[1:]]"
   ]
  },
  {
   "cell_type": "code",
   "execution_count": 19,
   "metadata": {},
   "outputs": [],
   "source": [
    "def get_artist(td):\n",
    "    try:\n",
    "        return td[1].a.string\n",
    "    except:\n",
    "        return td[1].string\n",
    "def get_title(td):\n",
    "    try:\n",
    "        return (td[0].a.string) \n",
    "    except:\n",
    "        return (td[0].string).strip('\\\"')"
   ]
  },
  {
   "cell_type": "code",
   "execution_count": 20,
   "metadata": {},
   "outputs": [],
   "source": [
    "df = pd.DataFrame(columns = ['song', 'artist'])"
   ]
  },
  {
   "cell_type": "code",
   "execution_count": 21,
   "metadata": {},
   "outputs": [],
   "source": [
    "for i in range(len(songs_list)):\n",
    "    to_append = [get_title(songs_list[i]), get_artist(songs_list[i])]\n",
    "    df_length = len(df)\n",
    "    df.loc[df_length] = to_append"
   ]
  },
  {
   "cell_type": "markdown",
   "metadata": {},
   "source": [
    "Now we need to repeat this process for every year since 1995"
   ]
  },
  {
   "cell_type": "code",
   "execution_count": 22,
   "metadata": {},
   "outputs": [],
   "source": [
    "#generate list of urls \n",
    "df = pd.DataFrame(columns = ['song', 'artist'])\n",
    "urls = ['http://en.wikipedia.org/wiki/Billboard_Year-End_Hot_100_singles_of_{0}'.format(str(i)) for i in range(1995, 2020)]"
   ]
  },
  {
   "cell_type": "code",
   "execution_count": 23,
   "metadata": {},
   "outputs": [],
   "source": [
    "for url in urls:\n",
    "    html = urlopen(url) \n",
    "    soup = BeautifulSoup(html, 'html.parser')\n",
    "    tables = soup.find_all('table')\n",
    "    if url.endswith('2013') or url.endswith('2012'):\n",
    "        rows = [row for row in tables[1].find_all('tr')]\n",
    "        songs_list = [get_td(row)for row in rows[1:]]\n",
    "        for i in range(len(songs_list)):\n",
    "            to_append = [get_title(songs_list[i]), get_artist(songs_list[i])]\n",
    "            df_length = len(df)\n",
    "            df.loc[df_length] = to_append\n",
    "    else:\n",
    "        rows = [row for row in tables[0].find_all('tr')]\n",
    "        songs_list = [get_td(row)for row in rows[1:]]\n",
    "        for i in range(len(songs_list)):\n",
    "            to_append = [get_title(songs_list[i]), get_artist(songs_list[i])]\n",
    "            df_length = len(df)\n",
    "            df.loc[df_length] = to_append"
   ]
  },
  {
   "cell_type": "code",
   "execution_count": 24,
   "metadata": {},
   "outputs": [],
   "source": [
    "bb_hits = df\n",
    "bb_hits = bb_hits.dropna()"
   ]
  },
  {
   "cell_type": "code",
   "execution_count": 25,
   "metadata": {},
   "outputs": [],
   "source": [
    "data = pd.read_csv('subset_data.csv')\n",
    "data = data.drop(['id','Unnamed: 0'], axis = 1)\n",
    "\n",
    "#add a hit column - is a hit or not\n",
    "data['hit'] = 0"
   ]
  },
  {
   "cell_type": "code",
   "execution_count": 26,
   "metadata": {},
   "outputs": [
    {
     "name": "stderr",
     "output_type": "stream",
     "text": [
      "/Library/Frameworks/Python.framework/Versions/3.6/lib/python3.6/site-packages/ipykernel_launcher.py:8: UserWarning: This pattern has match groups. To actually get the groups, use str.extract.\n",
      "  \n"
     ]
    }
   ],
   "source": [
    "for ind in bb_hits.index: \n",
    "    song = df['song'][ind]\n",
    "    #print(song)\n",
    "    if ind == 1618:\n",
    "        continue\n",
    "    else:\n",
    "        artist = df['artist'][ind]\n",
    "        to_check = data[data['name'].str.contains(song)]\n",
    "        for ind, row in to_check.iterrows():\n",
    "            if artist in row['artists']:\n",
    "                data.loc[ind, 'hit'] = 1"
   ]
  },
  {
   "cell_type": "markdown",
   "metadata": {},
   "source": [
    "# EDA"
   ]
  },
  {
   "cell_type": "code",
   "execution_count": 33,
   "metadata": {},
   "outputs": [
    {
     "data": {
      "text/plain": [
       "48762"
      ]
     },
     "execution_count": 33,
     "metadata": {},
     "output_type": "execute_result"
    }
   ],
   "source": [
    "data['hit'].value_counts()[0]"
   ]
  },
  {
   "cell_type": "code",
   "execution_count": 54,
   "metadata": {},
   "outputs": [
    {
     "name": "stdout",
     "output_type": "stream",
     "text": [
      "0    48762\n",
      "1     2708\n",
      "Name: hit, dtype: int64\n",
      "Percent of Hits: 5.261317272197397\n"
     ]
    }
   ],
   "source": [
    "#Number of hits/non-hits in our dataset\n",
    "print(data['hit'].value_counts())\n",
    "percenthits = (100*(data['hit'].value_counts()[1] / len(data)))\n",
    "print('Percent of Hits: ' + str(percenthits))"
   ]
  },
  {
   "cell_type": "code",
   "execution_count": 28,
   "metadata": {},
   "outputs": [
    {
     "data": {
      "text/plain": [
       "acousticness        0\n",
       "artists             0\n",
       "danceability        0\n",
       "duration_ms         0\n",
       "energy              0\n",
       "explicit            0\n",
       "instrumentalness    0\n",
       "key                 0\n",
       "liveness            0\n",
       "loudness            0\n",
       "mode                0\n",
       "name                0\n",
       "popularity          0\n",
       "release_date        0\n",
       "speechiness         0\n",
       "tempo               0\n",
       "valence             0\n",
       "year                0\n",
       "hit                 0\n",
       "dtype: int64"
      ]
     },
     "execution_count": 28,
     "metadata": {},
     "output_type": "execute_result"
    }
   ],
   "source": [
    "#Number of nulls\n",
    "data.isnull().sum()"
   ]
  },
  {
   "cell_type": "code",
   "execution_count": 31,
   "metadata": {},
   "outputs": [
    {
     "data": {
      "text/plain": [
       "acousticness       -0.084031\n",
       "instrumentalness   -0.075739\n",
       "mode               -0.027283\n",
       "liveness           -0.022791\n",
       "tempo              -0.011095\n",
       "key                 0.008526\n",
       "year                0.009097\n",
       "duration_ms         0.010863\n",
       "speechiness         0.024907\n",
       "explicit            0.027443\n",
       "valence             0.035484\n",
       "energy              0.039899\n",
       "loudness            0.085277\n",
       "danceability        0.104116\n",
       "popularity          0.170373\n",
       "hit                 1.000000\n",
       "Name: hit, dtype: float64"
      ]
     },
     "execution_count": 31,
     "metadata": {},
     "output_type": "execute_result"
    }
   ],
   "source": [
    "data.corr()['hit'].sort_values()"
   ]
  },
  {
   "cell_type": "code",
   "execution_count": 30,
   "metadata": {},
   "outputs": [
    {
     "data": {
      "text/html": [
       "<div>\n",
       "<style scoped>\n",
       "    .dataframe tbody tr th:only-of-type {\n",
       "        vertical-align: middle;\n",
       "    }\n",
       "\n",
       "    .dataframe tbody tr th {\n",
       "        vertical-align: top;\n",
       "    }\n",
       "\n",
       "    .dataframe thead th {\n",
       "        text-align: right;\n",
       "    }\n",
       "</style>\n",
       "<table border=\"1\" class=\"dataframe\">\n",
       "  <thead>\n",
       "    <tr style=\"text-align: right;\">\n",
       "      <th></th>\n",
       "      <th>name</th>\n",
       "      <th>artists</th>\n",
       "      <th>year</th>\n",
       "      <th>hit</th>\n",
       "    </tr>\n",
       "  </thead>\n",
       "  <tbody>\n",
       "    <tr>\n",
       "      <th>0</th>\n",
       "      <td>Wonderwall - Remastered</td>\n",
       "      <td>['Oasis']</td>\n",
       "      <td>1995</td>\n",
       "      <td>1</td>\n",
       "    </tr>\n",
       "    <tr>\n",
       "      <th>1</th>\n",
       "      <td>Gangsta's Paradise</td>\n",
       "      <td>['Coolio', 'L.V.']</td>\n",
       "      <td>1995</td>\n",
       "      <td>1</td>\n",
       "    </tr>\n",
       "    <tr>\n",
       "      <th>2</th>\n",
       "      <td>Check Yes Or No</td>\n",
       "      <td>['George Strait']</td>\n",
       "      <td>1995</td>\n",
       "      <td>0</td>\n",
       "    </tr>\n",
       "    <tr>\n",
       "      <th>3</th>\n",
       "      <td>1979 - Remastered 2012</td>\n",
       "      <td>['The Smashing Pumpkins']</td>\n",
       "      <td>1995</td>\n",
       "      <td>1</td>\n",
       "    </tr>\n",
       "    <tr>\n",
       "      <th>4</th>\n",
       "      <td>I Got 5 On It</td>\n",
       "      <td>['Luniz', 'Michael Marshall']</td>\n",
       "      <td>1995</td>\n",
       "      <td>0</td>\n",
       "    </tr>\n",
       "  </tbody>\n",
       "</table>\n",
       "</div>"
      ],
      "text/plain": [
       "                      name                        artists  year  hit\n",
       "0  Wonderwall - Remastered                      ['Oasis']  1995    1\n",
       "1       Gangsta's Paradise             ['Coolio', 'L.V.']  1995    1\n",
       "2          Check Yes Or No              ['George Strait']  1995    0\n",
       "3   1979 - Remastered 2012      ['The Smashing Pumpkins']  1995    1\n",
       "4            I Got 5 On It  ['Luniz', 'Michael Marshall']  1995    0"
      ]
     },
     "execution_count": 30,
     "metadata": {},
     "output_type": "execute_result"
    }
   ],
   "source": [
    "data[['name', 'artists', 'year', 'hit']].head()"
   ]
  },
  {
   "cell_type": "markdown",
   "metadata": {},
   "source": [
    "danceability seems to have the most affect on the popularity of a song, instrumentalness has a negative affect on it."
   ]
  },
  {
   "cell_type": "code",
   "execution_count": null,
   "metadata": {},
   "outputs": [],
   "source": [
    "#data.to_csv('final_data.csv')"
   ]
  },
  {
   "cell_type": "code",
   "execution_count": 70,
   "metadata": {},
   "outputs": [],
   "source": [
    "df = pd.read_csv('subset_data.csv').drop('Unnamed: 0', axis=1)"
   ]
  },
  {
   "cell_type": "markdown",
   "metadata": {},
   "source": [
    "# Baseline Model"
   ]
  },
  {
   "cell_type": "markdown",
   "metadata": {},
   "source": [
    "Our baseline model randomly selects a song to be a 'hit' ~5.26% of the time (the observed amount in our given data) and 'not a hit' the rest of the time."
   ]
  },
  {
   "cell_type": "code",
   "execution_count": 63,
   "metadata": {},
   "outputs": [],
   "source": [
    "features = ['acousticness',\n",
    "            'instrumentalness',\n",
    "            'mode',\n",
    "            'liveness',\n",
    "            'tempo', \n",
    "            'key', \n",
    "            'year',\n",
    "            'duration_ms', \n",
    "            'speechiness',\n",
    "            'explicit',\n",
    "            'valence', \n",
    "            'energy',\n",
    "            'loudness',\n",
    "            'danceability',\n",
    "            'artists',\n",
    "            'duration_ms',\n",
    "            'explicit',\n",
    "            'mode',\n",
    "            'name',\n",
    "            'popularity']\n",
    "X = data[features]\n",
    "y = data.hit\n",
    "\n",
    "def baseline_predictor(X):\n",
    "    predictions = []\n",
    "    for row in range(len(X)):\n",
    "        hit = choice([0,1], 1, [(100 - percenthits), percenthits])[0]\n",
    "        predictions.append(hit)\n",
    "    return predictions\n",
    "baseline_predictor(X)"
   ]
  },
  {
   "cell_type": "code",
   "execution_count": 69,
   "metadata": {},
   "outputs": [],
   "source": [
    "#Calculate RMSE\n",
    "mse = sklearn.metrics.mean_squared_error(y, predicted)\n",
    "rmse = math.sqrt(mse)"
   ]
  },
  {
   "cell_type": "code",
   "execution_count": null,
   "metadata": {},
   "outputs": [],
   "source": []
  }
 ],
 "metadata": {
  "kernelspec": {
   "display_name": "Python 3",
   "language": "python",
   "name": "python3"
  },
  "language_info": {
   "codemirror_mode": {
    "name": "ipython",
    "version": 3
   },
   "file_extension": ".py",
   "mimetype": "text/x-python",
   "name": "python",
   "nbconvert_exporter": "python",
   "pygments_lexer": "ipython3",
   "version": "3.6.2"
  }
 },
 "nbformat": 4,
 "nbformat_minor": 2
}
